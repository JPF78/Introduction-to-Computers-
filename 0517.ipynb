{
  "nbformat": 4,
  "nbformat_minor": 0,
  "metadata": {
    "colab": {
      "provenance": [],
      "authorship_tag": "ABX9TyP8ozpdW8DDS1d+oI7cbs+G",
      "include_colab_link": true
    },
    "kernelspec": {
      "name": "python3",
      "display_name": "Python 3"
    },
    "language_info": {
      "name": "python"
    }
  },
  "cells": [
    {
      "cell_type": "markdown",
      "metadata": {
        "id": "view-in-github",
        "colab_type": "text"
      },
      "source": [
        "<a href=\"https://colab.research.google.com/github/JPF78/Introduction-to-Computers-/blob/main/0517.ipynb\" target=\"_parent\"><img src=\"https://colab.research.google.com/assets/colab-badge.svg\" alt=\"Open In Colab\"/></a>"
      ]
    },
    {
      "cell_type": "code",
      "execution_count": 7,
      "metadata": {
        "colab": {
          "base_uri": "https://localhost:8080/"
        },
        "id": "B0BRoIBNBlM7",
        "outputId": "e35b13ed-1b19-4b48-9882-a117467838e4"
      },
      "outputs": [
        {
          "output_type": "stream",
          "name": "stdout",
          "text": [
            "0517\n"
          ]
        }
      ],
      "source": [
        "print(\"0517\")"
      ]
    },
    {
      "cell_type": "code",
      "source": [
        "score=int(input(\"score:\"))\n",
        "if score >= 90:\n",
        "  print('Grade is: A')\n",
        "elif score >= 80:\n",
        "  print('Grade is:B')\n",
        "elif score >= 70:\n",
        "  print('Grade is:C')\n",
        "elif score >= 60:\n",
        "  print('Grade is: D')\n",
        "else:\n",
        "  print('Grade is: F')        \n"
      ],
      "metadata": {
        "colab": {
          "base_uri": "https://localhost:8080/"
        },
        "id": "Y0YW7N0bBzs-",
        "outputId": "428da71d-96e4-41e6-8ad6-d5e6023f13d0"
      },
      "execution_count": 9,
      "outputs": [
        {
          "output_type": "stream",
          "name": "stdout",
          "text": [
            "score:56\n",
            "Grade is: F\n"
          ]
        }
      ]
    },
    {
      "cell_type": "code",
      "source": [
        "rain=str(input(\"今天會下雨嗎？\"))\n",
        "if (rain==\"Y\"or rain==\"y\"):\n",
        "  print('記得帶傘')\n",
        "elif(rain==\"N\"or rain==\"n\"):\n",
        "  print('不用帶傘')\n",
        "else:\n",
        "  print(\"輸入錯誤請重新輸入\")"
      ],
      "metadata": {
        "colab": {
          "base_uri": "https://localhost:8080/"
        },
        "id": "82junnEjDZ0A",
        "outputId": "3854a9cd-cf82-489d-bc58-02bbc5742287"
      },
      "execution_count": 4,
      "outputs": [
        {
          "output_type": "stream",
          "name": "stdout",
          "text": [
            "今天會下雨嗎？y\n",
            "記得帶傘\n"
          ]
        }
      ]
    },
    {
      "cell_type": "code",
      "source": [
        "體溫 = int(input(\"請輸入您的體溫\"))\n",
        "if 體溫 >= 37.5:\n",
        "  print('體溫過高')\n",
        "elif 體溫>=37 and 體溫<=37.4:\n",
        "  print(\"體溫略高!\")\n",
        "elif 體溫>=34 and 體溫<=36.9:\n",
        "  print(\"體溫正常!\")\n",
        "else:\n",
        "  print(\"體溫異常，請重新測量!\")"
      ],
      "metadata": {
        "colab": {
          "base_uri": "https://localhost:8080/"
        },
        "id": "ocAu1rVAFMj0",
        "outputId": "c85890cd-3fa9-4ed7-c1b5-1e907716317c"
      },
      "execution_count": 5,
      "outputs": [
        {
          "output_type": "stream",
          "name": "stdout",
          "text": [
            "請輸入您的體溫34\n",
            "體溫正常!\n"
          ]
        }
      ]
    },
    {
      "cell_type": "code",
      "source": [
        "score = int(input(\"請輸入成績\"))\n",
        "if score >= 90:\n",
        "    print('A')\n",
        "elif score >= 80:\n",
        "    print('B')\n",
        "elif score >= 70:\n",
        "    print('C')\n",
        "elif score >= 60:\n",
        "    print('D')\n",
        "else:\n",
        "    print('E')"
      ],
      "metadata": {
        "colab": {
          "base_uri": "https://localhost:8080/"
        },
        "id": "idZxZk1KG62m",
        "outputId": "0a44bfa9-1b0b-488c-afd5-8f75611bef2f"
      },
      "execution_count": 6,
      "outputs": [
        {
          "output_type": "stream",
          "name": "stdout",
          "text": [
            "請輸入成績56\n",
            "E\n"
          ]
        }
      ]
    },
    {
      "cell_type": "code",
      "source": [
        "month=int(input(\"請輸入月份:\"))\n",
        "if month>=3 and month<=5:\n",
        "  print(month,\"月是春天!\")\n",
        "elif month>=6 and month<=8:\n",
        "  print(month,\"月是夏天!\")\n",
        "elif month>=9 and month<=11:\n",
        "  print(month,\"月秋天!\")\n",
        "elif month==12 or month<=2:\n",
        "  print(month,\"月是冬天!\")\n",
        "else:\n",
        "  print(\"月份不在範圍內!\")"
      ],
      "metadata": {
        "colab": {
          "base_uri": "https://localhost:8080/"
        },
        "id": "beI0nMlSHCED",
        "outputId": "b86ded1d-f037-4860-aca3-cb5b1536bfdb"
      },
      "execution_count": 10,
      "outputs": [
        {
          "output_type": "stream",
          "name": "stdout",
          "text": [
            "請輸入月份:11\n",
            "11 月秋天!\n"
          ]
        }
      ]
    },
    {
      "cell_type": "code",
      "source": [
        "tax=int(input(\"請輸入今年收入淨額\"))\n",
        "if tax>=2000000:\n",
        "  print(\"付稅金額:\",tax*0.3,\"元\")\n",
        "elif tax>=1000000 and tax<2000000:\n",
        "  print(\"付稅金額:\",tax*0.21,\"元\")\n",
        "elif tax>=600000 and tax<1000000:\n",
        "  print(\"付稅金額:\",tax*0.13,\"元\")\n",
        "elif tax>=300000 and tax<600000:\n",
        "  print(\"付稅金額:\",tax*0.06,\"元\")  \n",
        "else:\n",
        "  print(\"付稅金額:0元\")"
      ],
      "metadata": {
        "colab": {
          "base_uri": "https://localhost:8080/"
        },
        "id": "wqfpyO1KHV1H",
        "outputId": "6187b1bf-35cb-4398-fd15-f430a136cf8f"
      },
      "execution_count": 11,
      "outputs": [
        {
          "output_type": "stream",
          "name": "stdout",
          "text": [
            "請輸入今年收入淨額600000\n",
            "付稅金額: 78000.0 元\n"
          ]
        }
      ]
    }
  ]
}